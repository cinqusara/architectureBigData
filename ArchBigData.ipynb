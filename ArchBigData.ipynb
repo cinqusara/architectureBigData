{
  "nbformat": 4,
  "nbformat_minor": 0,
  "metadata": {
    "colab": {
      "provenance": []
    },
    "kernelspec": {
      "name": "python3",
      "display_name": "Python 3"
    },
    "language_info": {
      "name": "python"
    }
  },
  "cells": [
    {
      "cell_type": "markdown",
      "source": [
        "Baga Martina - Cinquini Sara - Hassany Ariana"
      ],
      "metadata": {
        "id": "tXtYY9w_0OJN"
      }
    },
    {
      "cell_type": "markdown",
      "source": [
        "# Enabling Component Reuse (4th Pillar)\n",
        "\n",
        "Codice per il progetto di *Architectures for Big Data*.\n",
        "\n",
        "L'obiettivo richiede la creazione di una architettura riusabile, ovvero che abbia il corretto livello di astrazione/generalizzazione."
      ],
      "metadata": {
        "id": "y3AhTfibdEjj"
      }
    },
    {
      "cell_type": "code",
      "source": [
        "from abc import ABC, abstractmethod\n",
        "import requests\n",
        "import json\n",
        "import pymongo\n",
        "import datetime"
      ],
      "metadata": {
        "id": "MjpfZeMk_WwU"
      },
      "execution_count": null,
      "outputs": []
    },
    {
      "cell_type": "markdown",
      "source": [
        "Per permettere l'implementazione del quarto pillar, *Enabling Component Reuse*, è stata creata una classe astratta `Bach_extractor` che espone i metodi per l'estrazione di dati:\n",
        "*   `get_conn` è il metodo per la creazione di una connessione con un server\n",
        "*   `get_token` è il metodo per la richiesta di un token a un provider necessario la successiva domanda di estrazione dei dati\n",
        "* `get_data` è il metodo che permette lo scambio del token con i dati"
      ],
      "metadata": {
        "id": "716cYlPBXsvW"
      }
    },
    {
      "cell_type": "code",
      "source": [
        "class Bach_extractor(ABC):\n",
        " \n",
        "    @abstractmethod\n",
        "    def get_conn(self):\n",
        "        pass\n",
        "    \n",
        "    @abstractmethod\n",
        "    def get_token(self):\n",
        "        pass\n",
        "    \n",
        "    @abstractmethod\n",
        "    def get_data(self):\n",
        "        pass"
      ],
      "metadata": {
        "id": "sKg62XoQ_0yU"
      },
      "execution_count": null,
      "outputs": []
    },
    {
      "cell_type": "markdown",
      "source": [
        "Un'altra classe astratta che è stata creata è la classe `DB`. Questa classe contiene i metodi necessari per il salvataggio dei dati su un database (historical database) che farà da layer intermedio tra il layer operational e il layer analytical, evitanto un numero eccessivo di richieste al server.\n",
        "*   `conn_db` è il metodo che si occupa di creare la connessione con il database\n",
        "*   `insert_data` è il metodo che permette di inserire i dati ottenuti precedentemente nel database"
      ],
      "metadata": {
        "id": "PK2Jnbz6yqQy"
      }
    },
    {
      "cell_type": "code",
      "source": [
        "class DB(ABC):\n",
        "  @abstractmethod\n",
        "  def conn_db(self):\n",
        "    pass\n",
        "\n",
        "  @abstractmethod\n",
        "  def insert_data(self):\n",
        "    pass"
      ],
      "metadata": {
        "id": "cpoRKk6kkVjJ"
      },
      "execution_count": null,
      "outputs": []
    },
    {
      "cell_type": "markdown",
      "source": [
        "Infine è stata creata una classe astratta `Analytics` che espone i metodi necessari per la visualizzazione dei dati desiderati, presenti nell'historical database:\n",
        "*   `create_model` è il metodo che si occupa di creare un model\n",
        "*   `update_model` è il metodo che permette di inserire i dati desiderati per trainare il model\n",
        "*   `view_model` è il metodo che restituisce una visualizzazione (grafica) del modello trainato"
      ],
      "metadata": {
        "id": "pudRqmzDzVmD"
      }
    },
    {
      "cell_type": "code",
      "source": [
        "class Analytics(ABC):\n",
        "  @abstractmethod\n",
        "  def create_model(self):\n",
        "    pass\n",
        "  \n",
        "  @abstractmethod\n",
        "  def update_model(self):\n",
        "    pass\n",
        "  \n",
        "  @abstractmethod\n",
        "  def view_model(self):\n",
        "    pass"
      ],
      "metadata": {
        "id": "XNI8g4cinkqc"
      },
      "execution_count": null,
      "outputs": []
    },
    {
      "cell_type": "markdown",
      "source": [
        "Avendo definito le tre classi astratte è possile concretizzarle, per renderle specifiche alle nostre necessità, andando a ridefinire i metodi."
      ],
      "metadata": {
        "id": "R454lpUyZJ6t"
      }
    },
    {
      "cell_type": "markdown",
      "source": [
        "Di seguito sono descritti i metodi della classe `Connection_onestream(Bach_extractor)`."
      ],
      "metadata": {
        "id": "EP5oi2cA1TXl"
      }
    },
    {
      "cell_type": "markdown",
      "source": [
        "`get_conn` restituisce un url utilizzabile per la richiesta del token a un provider specifico. Il provider da noi scelto è Okta, utilizzato per chiedere a OneStream i dati e che, a sua volta, necessita di alcune informazioni specifiche tra le quali:\n",
        "* `client_id` che corrisponde all'ID client della propria applicazione Okta OAuth\n",
        "* `scope` è un OpenID, cioè l'endpoint */token* restituirà un tokenID\n",
        "* `redirect_uri` è l’url a cui viene re-indirizzato lo user agent insieme al file code e deve corrispondere a uno degli URI di reindirizzamento che sono stati specificati nell’applicazione Okta alla sua creazione\n",
        "* `state` è una stringa che il server di autorizzazione riproduce quando re-indirizza l’interprete client e si usa per prevenire la falsificazione di richieste tra siti"
      ],
      "metadata": {
        "id": "lNTVcT9AdrSv"
      }
    },
    {
      "cell_type": "markdown",
      "source": [
        "`get_token` esegue una richiesta *post* al provider tramite l'url restituito dal metodo `get_conn` con l'aggiunta dei campi necessari. Se le credenziali dell'utente sono corrette allora riceverà una risposta contenente il token necessario per la richiesta dei dati."
      ],
      "metadata": {
        "id": "A0XAa1EIdtlJ"
      }
    },
    {
      "cell_type": "markdown",
      "source": [
        "`get_data` esegue una richiesta *post* a OneStream per chiedere i dati. In particolare lo scambio necessita del token restituito dalla funzione `get_token` e di un JSON in cui vengono specificati i campi per la richiesta dei dati."
      ],
      "metadata": {
        "id": "C9uCfMYldv3X"
      }
    },
    {
      "cell_type": "code",
      "source": [
        "class Connection_onestream(Bach_extractor):\n",
        "  def get_conn(self, client_id, redirect_uri, state, scope):\n",
        "      okta_url = 'https://${yourOktaDomain}/oauth2/default/v1/authorize?client_id='+client_id+'&response_type=code&scope='+scope+'&redirect_uri='+redirect_uri+'&state='+state\n",
        "      return okta_url\n",
        "\n",
        "  def get_token(self, okta_url, json):\n",
        "    result = requests.post(okta_url, json)\n",
        "    token = result.access_token\n",
        "    return token\n",
        "\n",
        "  def get_data(self, json_obj, token):\n",
        "    data = requests.post(json_obj, token)\n",
        "    return data"
      ],
      "metadata": {
        "id": "TrziJIL9GGnz"
      },
      "execution_count": null,
      "outputs": []
    },
    {
      "cell_type": "markdown",
      "source": [
        "Di seguito sono descritti i metodi della classe `DB_mongo(DB)`. Per l'implementazione della classe DB è stato scelto un database NoSQL perchè in questo modo è possibile garantire:\n",
        "* uno sviluppo flessibile del database, grazie al modello schemaless\n",
        "* horizontal scalability (5th pillar)\n",
        "* performance più alte nei tempi di risposta\n",
        "* la creazione di distribuited systems adatti a elevate quantità di dati\n",
        "\n",
        "Nello specifico abbiamo scelto di utilizzare MongoDB in quanto i dati sono memorizzati in documenti flessibili simili a JSON, la stessa tipologia di dato restituita da OneStream."
      ],
      "metadata": {
        "id": "dpst6Jz250dU"
      }
    },
    {
      "cell_type": "markdown",
      "source": [
        "`conn_db` restituisce la collection `dailydata` che conterrà i dati scaricati da OneStream. Abbiamo supposto che questa operazione avvenga giornalmente."
      ],
      "metadata": {
        "id": "HxcSvKUzOiEB"
      }
    },
    {
      "cell_type": "markdown",
      "source": [
        "`insert_data` inserisce nella collection creata/selezionata precedentemente i dati in formato JSON restituiti dal metodo `get_data` della classe `Connection_onestream`.\n"
      ],
      "metadata": {
        "id": "iOzRXZcPTUeZ"
      }
    },
    {
      "cell_type": "code",
      "source": [
        "class DB_mongo(DB):\n",
        "  def conn_db(self, myclient):\n",
        "    dblist = myclient.list_database_names()\n",
        "    #se non esiste il DB viene creato in automatico \n",
        "    mongo_db = myclient[\"historical_db\"]\n",
        "    mycol = mongo_db[\"dailydata\"] \n",
        "    return mycol\n",
        "  \n",
        "  def insert_data(self, mycol, data):\n",
        "    insert = mycol.insert_one(data)\n",
        "    return('insert ok')"
      ],
      "metadata": {
        "id": "CMEd2zuKk126"
      },
      "execution_count": null,
      "outputs": []
    },
    {
      "cell_type": "markdown",
      "source": [
        "Di seguito sono descritti i metodi della classe `Economics_analytics(Analytics)`."
      ],
      "metadata": {
        "id": "nY_iqM_CODOC"
      }
    },
    {
      "cell_type": "markdown",
      "source": [
        "`crete_model` crea un modello a cui successivamente verranno aggiunti i dati. Questo modello viene utilizzato per effettuare previsioni sui possibili andamenti futuri."
      ],
      "metadata": {
        "id": "FX6Pr2lmUHKT"
      }
    },
    {
      "cell_type": "markdown",
      "source": [
        "`update_model` inserisce nel modello solamente i dati che appartengono a un intervallo temporale compreso tra due timestamp (`ts1` e `ts2`).\n",
        "Se all'interno del JSON restituito da OneStream non fosse presente il timestamp, supponiamo che questo campo venga aggiunto in automatico durante l'inserimento del dato nell'historical database.\n",
        "In questo caso consideriamo che il dato restituito abbia un timestamp nel formato dd/mm/yyyy relativo al giorno del download del dato (download giornaliero).\n",
        "In particolare il metodo riceve in input i seguenti attributi:\n",
        "* `col` rappresenta la collezione in cui sono contenuti i dati giornalieri\n",
        "* `ts1` e `ts2` sono i due timestamp scelti dall'utente e che delimitano l'intervallo temporale entro il quale si vogliono considerare i dati (supponiamo che `ts1` > `ts2`)\n",
        "* `model` è il modello creato precedentemente dal metodo `create_model`"
      ],
      "metadata": {
        "id": "ApGg4cH1UTps"
      }
    },
    {
      "cell_type": "markdown",
      "source": [
        "`view_data` permette la visualizzazione grafica del modello creato."
      ],
      "metadata": {
        "id": "h1uvjg_sz-jw"
      }
    },
    {
      "cell_type": "code",
      "source": [
        "class Economics_analytics(Analytics):\n",
        "  def create_model(self):\n",
        "    ...\n",
        "    return model\n",
        "  \n",
        "  def update_model(self, col, ts1, ts2, model):\n",
        "    for obj in col.find(): #obj = file json del db\n",
        "      #ipotizziamo che in obj ci sia il campo timestamp\n",
        "      ts = obj['timestamp']\n",
        "      dt_obj = datetime.fromtimestamp(ts)\n",
        "      if dt_obj < ts1 and dt_obj > ts2:\n",
        "        model.add(obj)\n",
        "    return model\n",
        "       \n",
        "  def view_model(self,model):\n",
        "    ...\n",
        "    return graph"
      ],
      "metadata": {
        "id": "ga1q9xeeoDhS"
      },
      "execution_count": null,
      "outputs": []
    },
    {
      "cell_type": "markdown",
      "source": [
        "Connessione a OneStream tramite provider e richiesta del token."
      ],
      "metadata": {
        "id": "p0logzaTcLTs"
      }
    },
    {
      "cell_type": "code",
      "execution_count": null,
      "metadata": {
        "colab": {
          "base_uri": "https://localhost:8080/"
        },
        "id": "KWaEMFJ9cenl",
        "outputId": "d00485f8-5e17-4653-efc5-ad842de492c6"
      },
      "outputs": [
        {
          "output_type": "stream",
          "name": "stdout",
          "text": [
            "https://${yourOktaDomain}/oauth2/default/v1/authorize?client_id=&response_type=code&scope=WebApiMachineToMachineScope&redirect_uri=&state=\n"
          ]
        }
      ],
      "source": [
        "client_id = ''\n",
        "client_secret = ''\n",
        "redirect_uri = ''\n",
        "state = ''\n",
        "scope = 'WebApiMachineToMachineScope'\n",
        "\n",
        "conn = Connection_onestream()\n",
        "url_conn = conn.get_conn(client_id, redirect_uri, state, scope) #connessione con il provider \n",
        "print(url_conn)"
      ]
    },
    {
      "cell_type": "code",
      "source": [
        "# TODO si potrebbe provare a mettere get_data incatenato con get_conn\n",
        "\n",
        "dict_json = {\n",
        "  \"grant_type\": \"client_credentials\",\n",
        "  \"scope\": scope,\n",
        "  \"client_id\": client_id,\n",
        "  \"client_secret\": client_secret\n",
        "}\n",
        "json_obj = json.dumps(dict_json)\n",
        "\n",
        "token = conn.get_token(url_conn, json_obj) # se credenziali okay, il provider ci restituisce la chiave per chiedere i dati a OneStream"
      ],
      "metadata": {
        "id": "Tm6LmQxVeLzB"
      },
      "execution_count": null,
      "outputs": []
    },
    {
      "cell_type": "markdown",
      "source": [
        "Richiesta dei dati."
      ],
      "metadata": {
        "id": "1Ky1eNqNcipO"
      }
    },
    {
      "cell_type": "code",
      "source": [
        "base_url = ''\n",
        "data_stream = '' # sono i dati che richiediamo a OneStream specifici per l'azienda considerata\n",
        "\n",
        "dict_json = {\n",
        "  \"BaseSìWebServerUrl\": base_url,\n",
        "  \"ApplicationName\": data_stream,\n",
        "  \"SequenceName\": 'Export Dara', # nome del pacchetto dove saranno presenti i dati\n",
        "}\n",
        "json_obj = json.dumps(dict_json)\n",
        "\n",
        "data = conn.get_data(json_obj, token)"
      ],
      "metadata": {
        "id": "1oykORxeO4et"
      },
      "execution_count": null,
      "outputs": []
    },
    {
      "cell_type": "markdown",
      "source": [
        "Salvataggio dei dati nel database."
      ],
      "metadata": {
        "id": "KO5j-HxwcnPh"
      }
    },
    {
      "cell_type": "code",
      "source": [
        "# connessione a MongoDB\n",
        "myclient = pymongo.MongoClient(\"mongodb://localhost:27017/\")"
      ],
      "metadata": {
        "id": "2DSyA7e_cq8B"
      },
      "execution_count": null,
      "outputs": []
    },
    {
      "cell_type": "code",
      "source": [
        "conn_db_mongo = DB_mongo()\n",
        "col = conn_db_mongo.conn_db(myclient)\n",
        "conn_db_mongo.insert_data(col, data)"
      ],
      "metadata": {
        "id": "_yRv3n3EgQU-"
      },
      "execution_count": null,
      "outputs": []
    },
    {
      "cell_type": "markdown",
      "source": [
        "Per visualizzare le performance dell'azienda l'utente deve specificare l'intervallo di tempo che vuole prendere in considerazione, andando a specificare due date. Per esempio per prelevare i dati degli ultimi sei mesi si dovrebbero inserire le seguenti date:"
      ],
      "metadata": {
        "id": "-cV668pnrxlN"
      }
    },
    {
      "cell_type": "code",
      "source": [
        "ts1 = datetime.date(2022 , 10 , 7)\n",
        "ts2 = datetime.date(2022 , 4 , 7)"
      ],
      "metadata": {
        "id": "UJhd0X9rsO86"
      },
      "execution_count": null,
      "outputs": []
    },
    {
      "cell_type": "markdown",
      "source": [
        "Creiamo il model per poi visualizzare i dati in un grafico."
      ],
      "metadata": {
        "id": "oI4q2sRDtm3p"
      }
    },
    {
      "cell_type": "code",
      "source": [
        "new_analytics = Economics_analytics()\n",
        "new_model = new_analytics.create_model()\n",
        "updated_model = new_analytics.update_model(col, ts1, ts2, new_model)\n",
        "updated_graph = new_analytics.view_model(updated_model)"
      ],
      "metadata": {
        "id": "4FnxMg_3smJG"
      },
      "execution_count": null,
      "outputs": []
    }
  ]
}